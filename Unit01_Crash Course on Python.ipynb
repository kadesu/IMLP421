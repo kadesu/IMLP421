{
 "cells": [
  {
   "cell_type": "markdown",
   "metadata": {},
   "source": [
    "# Python programming \n",
    "## Crash Course on Python Coding Practice\n",
    "\n",
    "No matter the level of mastery you hope to get to in Python,<br> \n",
    "you'll need these fundamentals in place before you jump into any project.<br><br>\n",
    "\n",
    "You need to know how to:\n",
    "\n",
    "- declare variables\n",
    "- collect user input\n",
    "- store information\n",
    "- repeat an action through loops\n",
    "- write functions to repeat blocks of code\n"
   ]
  },
  {
   "cell_type": "markdown",
   "metadata": {},
   "source": [
    "### 01 - 奇偶數辨別（Odd or even）\n",
    "#### 當使用者輸入一個的數字，它能夠辨別奇偶，並輸出檢驗結果給使用者。\n",
    "\n",
    "> 題目：輸入一數字判斷奇數或偶數<br>\n",
    "輸入(Input): 一個數字 <br>\n",
    "輸出(Output):奇數或偶數\n",
    "\n",
    "* 進階: 可以限制輸入一個介於一定範圍（例如 1 到 1000）的數字"
   ]
  },
  {
   "cell_type": "code",
   "execution_count": 17,
   "metadata": {},
   "outputs": [
    {
     "name": "stdin",
     "output_type": "stream",
     "text": [
      "請輸入一個數字 1000\n"
     ]
    },
    {
     "name": "stdout",
     "output_type": "stream",
     "text": [
      "1000為偶數\n"
     ]
    }
   ],
   "source": [
    "a = input(\"請輸入一個數字\")\n",
    "i = int(a)\n",
    "if i % 2==0:\n",
    "    print(a +\"為偶數\")\n",
    "else:\n",
    "    print (a +\"為奇數\") "
   ]
  },
  {
   "cell_type": "markdown",
   "metadata": {},
   "source": [
    "### 02 - 填字遊戲（Mad libs game）\n",
    "#### 使用者輸入任何字，它可以是名詞、形容詞、動詞、代名詞等。程式得到文字後，可自行排列，組成成一個模板故事。\n",
    "\n",
    "> 題目：輸入一數字判斷奇數或偶數<br>\n",
    "輸入(Input): 一連串依據說明輸入對應文字 <br>\n",
    "輸出(Output): 模板故事\n",
    "\n",
    "* 進階: 可以讓程式重複執行"
   ]
  },
  {
   "cell_type": "code",
   "execution_count": 6,
   "metadata": {},
   "outputs": [
    {
     "name": "stdin",
     "output_type": "stream",
     "text": [
      "請問要執行幾次 2\n",
      "請輸入課程期數: qqq\n",
      "請輸入課程名稱: www\n",
      "請輸入姓名: eee\n",
      "請輸入您的背景(科系或職業): rrr\n",
      "請簡述對於本課程得期望(列出幾點修完課程想得到的技能/對自己未來的規劃):  aaa\n"
     ]
    },
    {
     "name": "stdout",
     "output_type": "stream",
     "text": [
      "----------------------------------------------------\n",
      "課程:wwwqqq\n",
      "學生:eee\n",
      "背景:rrr\n",
      "恭喜學生eee於2024-07-19成功修習完www!\n"
     ]
    },
    {
     "name": "stdin",
     "output_type": "stream",
     "text": [
      "請輸入課程期數: 222\n",
      "請輸入課程名稱: 333\n",
      "請輸入姓名: 444\n",
      "請輸入您的背景(科系或職業): 555\n",
      "請簡述對於本課程得期望(列出幾點修完課程想得到的技能/對自己未來的規劃):  111\n"
     ]
    },
    {
     "name": "stdout",
     "output_type": "stream",
     "text": [
      "----------------------------------------------------\n",
      "課程:333222\n",
      "學生:444\n",
      "背景:555\n",
      "恭喜學生444於2024-07-19成功修習完333!\n"
     ]
    }
   ],
   "source": [
    "run = int(input(\"請問要執行幾次\"))\n",
    "for i in range(1,run+1):\n",
    "    class_num = input(\"請輸入課程期數:\") \n",
    "    class_name = input(\"請輸入課程名稱:\")\n",
    "    name = input(\"請輸入姓名:\")\n",
    "    BG = input(\"請輸入您的背景(科系或職業):\")\n",
    "    wish = input(\"請簡述對於本課程得期望(列出幾點修完課程想得到的技能/對自己未來的規劃): \")\n",
    "    \n",
    "    print(\"----------------------------------------------------\")\n",
    "    print(\"課程:\"+ class_name+ class_num)\n",
    "    print(\"學生:\" + name)\n",
    "    print(\"背景:\" + BG)\n",
    "    import datetime\n",
    "    today = datetime.date.today()\n",
    "    print(\"恭喜學生\" + name + \"於\" + str(today) + \"成功修習完\"+ class_name +\"!\")"
   ]
  },
  {
   "cell_type": "markdown",
   "metadata": {},
   "source": [
    "### 03 -  猜數字（Guess the number）\n",
    "#### 請使用者猜一個介於範圍（例如 1 到 100）之間的數字，\n",
    "#### 若使用者猜錯，就詢問他們想繼續玩還是退出；若使用者猜對，就顯示祝賀訊息，\n",
    "#### 並統計使用者的嘗試次數。如果使用者輸入的數字超出設定範圍，就顯示錯誤提示。\n",
    "\n",
    "![](data\\guess.png)\n"
   ]
  },
  {
   "cell_type": "code",
   "execution_count": 4,
   "metadata": {},
   "outputs": [
    {
     "name": "stdout",
     "output_type": "stream",
     "text": [
      "歡迎來到猜數字遊戲!\n"
     ]
    },
    {
     "name": "stdin",
     "output_type": "stream",
     "text": [
      "請猜一個介於1到100的數字 999\n"
     ]
    },
    {
     "name": "stdout",
     "output_type": "stream",
     "text": [
      "輸入錯誤,請重新輸入\n"
     ]
    },
    {
     "name": "stdin",
     "output_type": "stream",
     "text": [
      "請猜一個介於1到100的數字 50\n"
     ]
    },
    {
     "name": "stdout",
     "output_type": "stream",
     "text": [
      "猜太大\n"
     ]
    },
    {
     "name": "stdin",
     "output_type": "stream",
     "text": [
      "請猜一個介於1到100的數字 42\n"
     ]
    },
    {
     "name": "stdout",
     "output_type": "stream",
     "text": [
      "猜太小\n"
     ]
    },
    {
     "name": "stdin",
     "output_type": "stream",
     "text": [
      "請猜一個介於1到100的數字 46\n"
     ]
    },
    {
     "name": "stdout",
     "output_type": "stream",
     "text": [
      "猜太小\n"
     ]
    },
    {
     "name": "stdin",
     "output_type": "stream",
     "text": [
      "請猜一個介於1到100的數字 49\n"
     ]
    },
    {
     "name": "stdout",
     "output_type": "stream",
     "text": [
      "恭喜你猜對!\n"
     ]
    }
   ],
   "source": [
    "import random\n",
    "random_num = random.randint(1, 100)\n",
    "print(\"歡迎來到猜數字遊戲!\")\n",
    "\n",
    "\n",
    "while True:\n",
    "    num = int(input(\"請猜一個介於1到100的數字\"))\n",
    "    if 1<=num and num<=100:\n",
    "        if random_num == num:\n",
    "            print(\"恭喜你猜對!\")\n",
    "            break\n",
    "        elif random_num > num:\n",
    "            print(\"猜太小\")         \n",
    "        else:\n",
    "            print(\"猜太大\")\n",
    "    else:\n",
    "        print(\"輸入錯誤,請重新輸入\")"
   ]
  },
  {
   "cell_type": "markdown",
   "metadata": {},
   "source": [
    "### 04 - 計算字數（Word count）\n",
    "#### 使用者輸入一段文字或讀取一檔案，程式統計字數。\n",
    "\n",
    "> 輸入(Input):我要成為寫程式的專家 <br>\n",
    "輸出(Output):你用了 10 個文字述說內心的想法\n",
    "\n",
    "#### 在特定的文章字串中搜尋輸入的特定字，請使用者輸入欲搜尋的文字，印出總共有幾個。<br>\n",
    ">輸入(Input):天<br>\n",
    "輸出(Output): 9\n",
    "\n",
    "* 進階:計算文章中去除標點符號後的字數，找出文章中出現最多的字與次數"
   ]
  },
  {
   "cell_type": "code",
   "execution_count": 4,
   "metadata": {},
   "outputs": [
    {
     "data": {
      "text/plain": [
       "str"
      ]
     },
     "execution_count": 4,
     "metadata": {},
     "output_type": "execute_result"
    }
   ],
   "source": [
    "s = '''漢皇重色思傾國，御宇多年求不得。\n",
    "\n",
    "楊家有女初長成，養在深閏人未識。\n",
    "\n",
    "天生麗質難自棄，一朝選在君王側。\n",
    "\n",
    "回眸一笑百媚生，六宮粉黛無顏色。\n",
    "\n",
    "春寒賜浴華清池，溫泉水滑洗凝脂；\n",
    "\n",
    "侍兒扶起嬌無力，始是新承恩澤時。\n",
    "\n",
    "雲鬢花顏金步搖，芙蓉帳暖度春宵；\n",
    "\n",
    "春宵苦短日高起，從此君王不早朝。\n",
    "\n",
    "承歡侍宴無閑暇，春從春遊夜專夜。\n",
    "\n",
    "後宮佳麗三千人，三千寵愛在一身。\n",
    "\n",
    "金屋妝成嬌侍夜，玉樓宴罷醉和春。\n",
    "\n",
    "姊妹弟兄皆列士，可憐光彩生門戶。\n",
    "\n",
    "遂令天下父母心，不重生男重生女。\n",
    "\n",
    "驪宮高處入青雲，仙樂風飄處處聞。\n",
    "\n",
    "緩歌慢舞凝絲竹，盡日君王看不足。\n",
    "\n",
    "漁陽鼙鼓動地來，驚破霓裳羽衣曲。\n",
    "\n",
    "九重城闕煙塵生，千乘萬騎西南行。\n",
    "\n",
    "翠華搖搖行復止，西出都門百餘里；\n",
    "\n",
    "六軍不發無奈何？宛轉蛾眉馬前死。\n",
    "\n",
    "花鈿委地無人收，翠翹金雀玉搔頭。\n",
    "\n",
    "君王掩面救不得，回看血淚相和流。\n",
    "\n",
    "黃埃散漫風蕭索，雲棧縈紆登劍閣。\n",
    "\n",
    "峨嵋山下少人行，旌旗無光日色薄。\n",
    "\n",
    "蜀江水碧蜀山青，聖主朝朝暮暮情。\n",
    "\n",
    "行宮見月傷心色，夜雨聞鈴腸斷聲。\n",
    "\n",
    "天旋地轉迴龍馭，到此躊躇不能去。\n",
    "\n",
    "馬嵬坡下泥土中，不見玉顏空死處。\n",
    "\n",
    "君臣相顧盡霑衣，東望都門信馬歸。\n",
    "\n",
    "歸來池苑皆依舊，太液芙蓉未央柳；\n",
    "\n",
    "芙蓉如面柳如眉，對此如何不淚垂？\n",
    "\n",
    "春風桃李花開日，秋雨梧桐葉落時。\n",
    "\n",
    "西宮南內多秋草，落葉滿階紅不掃。\n",
    "\n",
    "梨園子弟白髮新，椒房阿監青娥老。\n",
    "\n",
    "夕殿螢飛思悄然，孤燈挑盡未成眠。\n",
    "\n",
    "遲遲鐘鼓初長夜，耿耿星河欲曙天。\n",
    "\n",
    "鴛鴦瓦冷霜華重，翡翠衾寒誰與共？\n",
    "\n",
    "悠悠生死別經年，魂魄不曾來入夢。\n",
    "\n",
    "臨邛道士鴻都客，能以精誠致魂魄；\n",
    "\n",
    "為感君王輾轉思，遂教方士殷勤覓。\n",
    "\n",
    "排空馭氣奔如電，升天入地求之遍；\n",
    "\n",
    "上窮碧落下黃泉，兩處茫茫皆不見。\n",
    "\n",
    "忽聞海上有仙山，山在虛無縹緲間。\n",
    "\n",
    "樓閣玲瓏五雲起，其中綽約多仙子。\n",
    "\n",
    "中有一人字太真，雪膚花貌參差是。\n",
    "\n",
    "金闕西廂叩玉扃，轉教小玉報雙成。\n",
    "\n",
    "聞道漢家天子使，九華帳裡夢魂驚；\n",
    "\n",
    "攬衣推枕起徘徊，珠箔銀屏迤邐開。\n",
    "\n",
    "雲鬢半偏新睡覺，花冠不整下堂來。\n",
    "\n",
    "風吹仙袂飄飄舉，猶似霓裳羽衣舞。\n",
    "\n",
    "玉容寂寞淚闌干，梨花一枝春帶雨。\n",
    "\n",
    "含情凝睇謝君王，一別音容兩渺茫。\n",
    "\n",
    "昭陽殿裡恩愛絕，蓬萊宮中日月長。\n",
    "\n",
    "回頭下望人寰處，不見長安見塵霧。\n",
    "\n",
    "唯將舊物表深情，鈿合金釵寄將去。\n",
    "\n",
    "釵留一股合一扇，釵擘黃金合分鈿。\n",
    "\n",
    "但教心似金鈿堅，天上人間會相見。\n",
    "\n",
    "臨別殷勤重寄詞，詞中有誓兩心知，\n",
    "\n",
    "七月七日長生殿，夜半無人私語時：「\n",
    "\n",
    "在天願作比翼鳥，在地願為連理枝。」\n",
    "\n",
    "天長地久有時盡，此恨綿綿無絕期。\n",
    "'''\n",
    "\n",
    "type(s)"
   ]
  },
  {
   "cell_type": "code",
   "execution_count": 9,
   "metadata": {},
   "outputs": [
    {
     "name": "stdin",
     "output_type": "stream",
     "text": [
      "請輸入一段文字 dk3u3\n"
     ]
    },
    {
     "name": "stdout",
     "output_type": "stream",
     "text": [
      "此段文字用了5個文字\n",
      "------------------------------------------\n"
     ]
    },
    {
     "name": "stdin",
     "output_type": "stream",
     "text": [
      "請使用者輸入一個字 一\n"
     ]
    },
    {
     "name": "stdout",
     "output_type": "stream",
     "text": [
      "一這個字在此段文章中出現了8次\n"
     ]
    }
   ],
   "source": [
    "word = input(\"請輸入一段文字\")\n",
    "print(\"此段文字用了\" + str(len(word)) +\"個文字\")\n",
    "\n",
    "print (\"------------------------------------------\")\n",
    "check = input(\"請使用者輸入一個字\")\n",
    "appear_time = s.count(check)\n",
    "print(check + \"這個字在此段文章中出現了\"+str(appear_time)+\"次\")"
   ]
  },
  {
   "cell_type": "code",
   "execution_count": 23,
   "metadata": {},
   "outputs": [
    {
     "name": "stdout",
     "output_type": "stream",
     "text": [
      "文章總字數: 840\n",
      "本篇文章出現最多次數的字為不,一共出現14次\n"
     ]
    }
   ],
   "source": [
    "for i in \"。，\\n；：？「」\":\n",
    "    s = s.replace(i , \"\")\n",
    "\n",
    "print(\"文章總字數:\",len(s))\n",
    "count_num=0\n",
    "\n",
    "for word in s:\n",
    "    counts = s.count(word)\n",
    "    if counts > count_num:\n",
    "        count_num = counts\n",
    "        maxword = word\n",
    "else:\n",
    "    print(\"本篇文章出現最多次數的字為\" + maxword +\",一共出現\" + str(count_num) +\"次\")"
   ]
  },
  {
   "cell_type": "markdown",
   "metadata": {},
   "source": [
    "### 05 - Email 域名判斷器（Email slicer）\n",
    "#### 請用戶輸入 Email 地址，然後判斷它是自定義域名還是熱門域名。\n",
    "\n",
    "> 題目：<br>\n",
    "輸入(Input):shelly200318@hotmail.com.tw  <br>\n",
    "輸出(Output):Your username is 'shelly200318' and your domain name is 'hotmail.com.tw' <br>\n",
    "\n",
    "\n",
    "* 進階：把常用的信箱存成字典，加入判斷是否為\n",
    ">輸入(Input):mary.jane@gmail.com  <br>\n",
    "輸出(Output):這是註冊在 Google 之下的 Email 地址 <br>\n",
    "輸入(Input):matt.pan@myfantasy.com  <br>\n",
    "輸出(Output):這是在 myfantasy 之下自定義域\n",
    "\n"
   ]
  },
  {
   "cell_type": "code",
   "execution_count": 34,
   "metadata": {},
   "outputs": [
    {
     "name": "stdin",
     "output_type": "stream",
     "text": [
      "What is your email address?:  r12423020@ntu.edu.tw\n"
     ]
    },
    {
     "name": "stdout",
     "output_type": "stream",
     "text": [
      "你的使用者名稱為:r12423020\n",
      "你的網域為:ntu.edu.tw\n",
      "這是註冊在臺大之下的 Email 地址\n"
     ]
    }
   ],
   "source": [
    "email = input(\"What is your email address?: \").strip()\n",
    "#strip是指會移除字串中所含的空格\n",
    "\n",
    "user_name = email[0:email.index(\"@\")]\n",
    "domain_name = email[email.index(\"@\")+1:]\n",
    "\n",
    "print(\"你的使用者名稱為:\" + user_name)\n",
    "print(\"你的網域為:\" +domain_name)\n",
    "\n",
    "domain = {'gmail.com':'Google','yahoo.com.tw':'Yahoo','ntu.edu.tw':'臺大','hotmail.com.tw':'Hotmail','hotmail.com':'Hotmail'}\n",
    "if domain_name in domain:\n",
    "    output = \"這是註冊在\" + domain[domain_name] +\"之下的 Email 地址\"\n",
    "else: \n",
    "    output = \"這是在\" + domain_name[1:domain_name.index(\".\")] +\"之下自定義域\"\n",
    "print(output)"
   ]
  },
  {
   "cell_type": "markdown",
   "metadata": {},
   "source": [
    "### 06 - 及格名單（Pass list）\n",
    "#### 請使用集合功能來完成各科級名單的判斷\n",
    "```\n",
    "米花市帝丹小學一年级B班正舉辦期中考試\n",
    "數學及格的有：柯南、灰原、步美、美環、光彦\n",
    "英文及格的有：柯南、灰原、丸尾、野口、步美\n",
    "以上已列出全班所有人\n",
    "```\n",
    "\n",
    ">請分別列出<br>\n",
    "數學及格但英文不及格的同學名單<br>\n",
    "數學不及格但英文及格的同學名單<br>\n",
    "兩者皆及格名單<br>\n",
    "* Hint:差集(減法)、交集\n"
   ]
  },
  {
   "cell_type": "code",
   "execution_count": 47,
   "metadata": {},
   "outputs": [
    {
     "name": "stdout",
     "output_type": "stream",
     "text": [
      "米花市帝丹小學一年级B班總共有7位同學;他們分別是柯南, 灰原, 步美, 野口, 美環, 丸尾, 光彦\n",
      "都及格者為柯南, 灰原, 步美\n",
      "僅數學及格者為美環, 光彦\n",
      "僅英文及格者為丸尾, 野口\n"
     ]
    }
   ],
   "source": [
    "math={'柯南','灰原','步美','美環','光彦'}\n",
    "eng={'柯南','灰原','丸尾','野口','步美'}\n",
    "a=math.intersection(eng)\n",
    "hole_class=math.union(eng)\n",
    "b=math.difference(eng)\n",
    "c=eng.difference(math)\n",
    "d=eng.union(math)\n",
    "pass_both = \", \".join(a)\n",
    "pass_math_only = \", \".join(b)\n",
    "pass_eng_only=\", \".join(c)\n",
    "classmates =\", \".join(d)\n",
    "print(\"米花市帝丹小學一年级B班總共有\" + str(len(d)) +\"位同學;他們分別是\"+ classmates)\n",
    "print(\"都及格者為\"+pass_both)\n",
    "print(\"僅數學及格者為\"+pass_math_only)\n",
    "print(\"僅英文及格者為\"+pass_eng_only)"
   ]
  },
  {
   "cell_type": "markdown",
   "metadata": {},
   "source": [
    "### 07 - 查詢路徑下所有檔案\n",
    "#### 請使用者輸入路徑，自動抓取路徑下所有檔案名稱\n",
    "\n",
    ">輸入(Input):data\\testfile 或 D:\\code\\ML_202105\\data\\testfile  <br>\n",
    "輸出(Output):\n",
    "```\n",
    "I'm a directory: file1\n",
    "I'm a directory: file2\n",
    "I'm a File: hw_07945001.txt\n",
    "I'm a File: hw_079450010.doc\n",
    "I'm a File: hw_07945002.txt\n",
    "I'm a File: hw_07945003.txt\n",
    "I'm a File: hw_07945004.txt\n",
    "I'm a File: hw_07945005.txt\n",
    "I'm a File: hw_07945007.txt\n",
    "I'm a File: hw_07945008.txt\n",
    "I'm a File: hw_07945009.txt\n",
    "```\n",
    "\n",
    "* 進階: 把file的學號抓出來，另存成一個新的csv檔"
   ]
  },
  {
   "cell_type": "code",
   "execution_count": 52,
   "metadata": {},
   "outputs": [
    {
     "name": "stdin",
     "output_type": "stream",
     "text": [
      "請輸入或指定要查詢的路徑 C:\\Users\\taitsen\\Desktop\\113-1_ntu_IMPL421\\unit01\\Unit01\\testfile\n"
     ]
    },
    {
     "name": "stdout",
     "output_type": "stream",
     "text": [
      "['file1', 'file2', 'hw_07945001.txt', 'hw_079450010.doc', 'hw_07945002.txt', 'hw_07945003.txt', 'hw_07945004.txt', 'hw_07945005.txt', 'hw_07945007.txt', 'hw_07945008.txt', 'hw_07945009.txt']\n",
      "file1是個資料夾\n",
      "file2是個資料夾\n",
      "hw_07945001.txt是個檔案\n",
      "hw_079450010.doc是個檔案\n",
      "hw_07945002.txt是個檔案\n",
      "hw_07945003.txt是個檔案\n",
      "hw_07945004.txt是個檔案\n",
      "hw_07945005.txt是個檔案\n",
      "hw_07945007.txt是個檔案\n",
      "hw_07945008.txt是個檔案\n",
      "hw_07945009.txt是個檔案\n"
     ]
    }
   ],
   "source": [
    "import os\n",
    "yourPath = input(\"請輸入或指定要查詢的路徑\")\n",
    "allFileList = os.listdir(yourPath)\n",
    "#這個指令會列出這個路徑底下的檔案\n",
    "print(allFileList)\n",
    "\n",
    "i=len(allFileList)\n",
    "for i in range(0,i):\n",
    "    if \"file\" in allFileList[i]:\n",
    "        print(allFileList[i] + \"是個資料夾\")\n",
    "    else:\n",
    "        print(allFileList[i] + \"是個檔案\")"
   ]
  },
  {
   "cell_type": "markdown",
   "metadata": {},
   "source": [
    "### 08 - 資料夾管理(shutil)\n",
    "#### 說明 ####\n",
    "\n",
    "```\n",
    "在目前所在的目錄下建立一files資料夾\n",
    "\n",
    "令使用者輸入一數字N，並在files資料夾中建立f1, f2… fN等N個資料夾後列出files的資料夾內容\n",
    "\n",
    "將files資料夾裡的f1資料夾重新命名成folder1後再列出files的資料夾內容\n",
    "\n",
    "移除files資料夾中的folder1後再列出files的資料夾內容\n",
    "\n",
    "最後移除files資料夾\n",
    "※須先退出files資料夾(os.chdir(../)) ![image.png](attachment:image.png)\n",
    "```\n"
   ]
  },
  {
   "cell_type": "code",
   "execution_count": 35,
   "metadata": {},
   "outputs": [
    {
     "name": "stdout",
     "output_type": "stream",
     "text": [
      "2\n",
      "['f1', 'f2']\n",
      "Enter\n",
      "['f2', 'folder1']\n",
      "Enter\n",
      "['f2']\n",
      "Enter\n"
     ]
    }
   ],
   "source": [
    "import shutil\n",
    "if os.path.exists('files'): #這裡是用相對路徑\n",
    "    shutil.rmtree('files')#移除和這個ipy檔一樣路徑\n",
    "os.mkdir('files') #新增一個資料夾;mkdir=makedirecteroy\n",
    "\n",
    "n = int(input(\"請輸入你要創建的資料夾數\"))\n",
    "\n",
    "os.chdir('files') #改變程式的工作資料夾路徑;所以chdir(放你的路徑)\n",
    "for i in range(1,n+1):\n",
    "    os.mkdir('f'+str(i))\n",
    "print(sorted(os.listdir()))\n",
    "a = input('Enter')  #防呆機制,要按下enter後才會再繼續\n",
    "\n",
    "os.rename('f1','folder1') #rename(old, new): 重新命名檔案\n",
    "print(sorted(os.listdir()))\n",
    "a = input('Enter')\n",
    "\n",
    "os.rmdir('folder1')\n",
    "print(sorted(os.listdir()))\n",
    "a = input('Enter')\n",
    "\n",
    "os.chdir('../')\n",
    "shutil.rmtree('files')\n",
    "\n",
    "#詳細指令:https://steam.oxxostudio.tw/category/python/library/os.html"
   ]
  },
  {
   "cell_type": "markdown",
   "metadata": {},
   "source": [
    "### 09 - 回文判斷（Is a palindrome）\n",
    "#### 請使用者輸入單字，判斷它是否為回文，也就是該單字前後對稱，例如 madam，從前讀到後或是從後讀到前的順序都是 madam。\n",
    "\n",
    "> 題目：<br>\n",
    "輸入(Input): 雨 滋 春 樹 碧 連 天  天 連 碧 樹 春 滋 雨 <br>\n",
    "輸出(Output):The text you have entered is a palindrome!<br>\n",
    "輸入(Input): 資工訓練班 <br>\n",
    "輸出(Output):The text you have entered is not a palindrome.\n"
   ]
  },
  {
   "cell_type": "code",
   "execution_count": 79,
   "metadata": {},
   "outputs": [
    {
     "name": "stdout",
     "output_type": "stream",
     "text": [
      "回文判斷（Is a palindrome）:\n"
     ]
    },
    {
     "name": "stdin",
     "output_type": "stream",
     "text": [
      "請輸入一對文字 Borrow or rob?\n"
     ]
    },
    {
     "name": "stdout",
     "output_type": "stream",
     "text": [
      "Borrow or rob?是回文\n"
     ]
    }
   ],
   "source": [
    "print(\"回文判斷（Is a palindrome）:\")\n",
    "text = input(\"請輸入一對文字\")\n",
    "text_in = text.upper()\n",
    "\n",
    "for i in \"。-.,:;!?\":\n",
    "    text_in = text_in.replace(i, \"\")\n",
    "\n",
    "n = len(text_in)       \n",
    "first_letter = text_in[0]\n",
    "last_letter = text_in[n-1]\n",
    "\n",
    "if first_letter == last_letter:\n",
    "    print(text+ \"是回文\")\n",
    "else:\n",
    "    print(text+ \"不是回文\")"
   ]
  },
  {
   "cell_type": "markdown",
   "metadata": {},
   "source": [
    "### 10 - 總成績計算\n",
    "#### 說明 ####\n",
    "\n",
    "請讀取 `data/english_list.csv`與`data/math_list.csv`檔案(`utf-8`)後，將每位同學的英文與數學成績加總起來，並將檔案寫入至 `./Score.csv`中，編碼成`utf-8`<br>\n",
    "最後列印出每位學生姓名與加總後的分數<br>\n",
    "<a href=\"data\\english_list.csv\">英文成績下載</a><br>\n",
    "<a href=\"data\\math_list.csv\">數學成績下載</a><br>\n",
    "\n",
    "#### Input Format ####\n",
    "\n",
    "<br>\n",
    "csv資料(英文成績)<br>\n",
    "csv資料(數學成績)<br>\n",
    "<br>\n",
    "\n",
    "#### Output Format ####\n",
    "\n",
    "<br>\n",
    "\n",
    "![](data\\05.JPG)<br>\n",
    "<br>\n",
    "<br>\n",
    "(圖片參考用 以文字敘述為準)<br>\n",
    "\n",
    "\n",
    "\n",
    "\n",
    "#### Sample Input 1####\n",
    "\n",
    "\n",
    "\n",
    "```\n",
    "無標準輸入，只有檔案輸入\n",
    "```\n",
    "\n",
    "\n",
    "\n",
    "#### Sample Output 1####\n",
    "\n",
    "\n",
    "```\n",
    "廖冠霖 142\n",
    "王力中 124\n",
    "張平舜 108\n",
    ".\n",
    ".\n",
    ".\n",
    ".\n",
    ".\n",
    "陳姿茜 77\n",
    "涂珮瑜 134\n",
    "夏明哲 111\n",
    "\n",
    "```\n",
    "\n",
    "\n",
    "#### Hint ####\n",
    "\n",
    "\n",
    "\n",
    "```\n",
    "None\n",
    "```\n"
   ]
  },
  {
   "cell_type": "code",
   "execution_count": 85,
   "metadata": {},
   "outputs": [
    {
     "name": "stdout",
     "output_type": "stream",
     "text": [
      "    姓名  英文\n",
      "0  廖冠霖  76\n",
      "1  王力中  51\n",
      "2  張平舜  93\n",
      "    姓名  數學\n",
      "0  廖冠霖  66\n",
      "1  王力中  73\n",
      "2  張平舜  15\n"
     ]
    }
   ],
   "source": [
    "import pandas as pd\n",
    "df_eng = pd.read_csv(r\"C:\\Users\\taitsen\\Desktop\\113-1_ntu_IMPL421\\unit01\\Unit01\\data\\english_list.csv\",encoding='UTF-8')\n",
    "df_ma = pd.read_csv(r\"C:\\Users\\taitsen\\Desktop\\113-1_ntu_IMPL421\\unit01\\Unit01\\data\\math_list.csv\",encoding='UTF-8')\n",
    "\n",
    "df_eng[df_eng.duplicated()]\n",
    "df_ma[df_ma.duplicated()]\n",
    "df_eng = df_eng.drop_duplicates()\n",
    "df_ma = df_ma.drop_duplicates()\n",
    "\n",
    "print(df_eng.head(3))\n",
    "print(df_ma.head(3))"
   ]
  },
  {
   "cell_type": "code",
   "execution_count": 90,
   "metadata": {},
   "outputs": [
    {
     "data": {
      "text/html": [
       "<div>\n",
       "<style scoped>\n",
       "    .dataframe tbody tr th:only-of-type {\n",
       "        vertical-align: middle;\n",
       "    }\n",
       "\n",
       "    .dataframe tbody tr th {\n",
       "        vertical-align: top;\n",
       "    }\n",
       "\n",
       "    .dataframe thead th {\n",
       "        text-align: right;\n",
       "    }\n",
       "</style>\n",
       "<table border=\"1\" class=\"dataframe\">\n",
       "  <thead>\n",
       "    <tr style=\"text-align: right;\">\n",
       "      <th></th>\n",
       "      <th>姓名</th>\n",
       "      <th>英文</th>\n",
       "      <th>數學</th>\n",
       "      <th>總分</th>\n",
       "    </tr>\n",
       "  </thead>\n",
       "  <tbody>\n",
       "    <tr>\n",
       "      <th>0</th>\n",
       "      <td>廖冠霖</td>\n",
       "      <td>76</td>\n",
       "      <td>66</td>\n",
       "      <td>142</td>\n",
       "    </tr>\n",
       "    <tr>\n",
       "      <th>1</th>\n",
       "      <td>王力中</td>\n",
       "      <td>51</td>\n",
       "      <td>73</td>\n",
       "      <td>124</td>\n",
       "    </tr>\n",
       "    <tr>\n",
       "      <th>2</th>\n",
       "      <td>張平舜</td>\n",
       "      <td>93</td>\n",
       "      <td>15</td>\n",
       "      <td>108</td>\n",
       "    </tr>\n",
       "    <tr>\n",
       "      <th>3</th>\n",
       "      <td>洪婷婷</td>\n",
       "      <td>46</td>\n",
       "      <td>82</td>\n",
       "      <td>128</td>\n",
       "    </tr>\n",
       "    <tr>\n",
       "      <th>4</th>\n",
       "      <td>林士雨</td>\n",
       "      <td>7</td>\n",
       "      <td>79</td>\n",
       "      <td>86</td>\n",
       "    </tr>\n",
       "    <tr>\n",
       "      <th>5</th>\n",
       "      <td>陳宗翰</td>\n",
       "      <td>13</td>\n",
       "      <td>15</td>\n",
       "      <td>28</td>\n",
       "    </tr>\n",
       "    <tr>\n",
       "      <th>6</th>\n",
       "      <td>洪偉珊</td>\n",
       "      <td>81</td>\n",
       "      <td>53</td>\n",
       "      <td>134</td>\n",
       "    </tr>\n",
       "    <tr>\n",
       "      <th>7</th>\n",
       "      <td>顏又芹</td>\n",
       "      <td>27</td>\n",
       "      <td>5</td>\n",
       "      <td>32</td>\n",
       "    </tr>\n",
       "    <tr>\n",
       "      <th>8</th>\n",
       "      <td>王亦夏</td>\n",
       "      <td>18</td>\n",
       "      <td>37</td>\n",
       "      <td>55</td>\n",
       "    </tr>\n",
       "    <tr>\n",
       "      <th>9</th>\n",
       "      <td>姚成華</td>\n",
       "      <td>39</td>\n",
       "      <td>38</td>\n",
       "      <td>77</td>\n",
       "    </tr>\n",
       "  </tbody>\n",
       "</table>\n",
       "</div>"
      ],
      "text/plain": [
       "    姓名  英文  數學   總分\n",
       "0  廖冠霖  76  66  142\n",
       "1  王力中  51  73  124\n",
       "2  張平舜  93  15  108\n",
       "3  洪婷婷  46  82  128\n",
       "4  林士雨   7  79   86\n",
       "5  陳宗翰  13  15   28\n",
       "6  洪偉珊  81  53  134\n",
       "7  顏又芹  27   5   32\n",
       "8  王亦夏  18  37   55\n",
       "9  姚成華  39  38   77"
      ]
     },
     "execution_count": 90,
     "metadata": {},
     "output_type": "execute_result"
    }
   ],
   "source": [
    "df_eng[\"數學\"] =df_ma[\"數學\"]\n",
    "df_eng[\"總分\"] = df_eng[\"數學\"] + df_eng[\"英文\"]\n",
    "df_eng.head(10)"
   ]
  },
  {
   "cell_type": "code",
   "execution_count": 93,
   "metadata": {},
   "outputs": [
    {
     "name": "stdout",
     "output_type": "stream",
     "text": [
      "Done\n"
     ]
    }
   ],
   "source": [
    "df_eng.to_csv(r\"C:\\Users\\taitsen\\Desktop\\113-1_ntu_IMPL421\\unit01\\Unit01\\data\\Score.csv\",encoding='big5')\n",
    "#因為有繁中,所以我改用big5\n",
    "\n",
    "print(\"Done\")"
   ]
  }
 ],
 "metadata": {
  "kernelspec": {
   "display_name": "Python 3 (ipykernel)",
   "language": "python",
   "name": "python3"
  },
  "language_info": {
   "codemirror_mode": {
    "name": "ipython",
    "version": 3
   },
   "file_extension": ".py",
   "mimetype": "text/x-python",
   "name": "python",
   "nbconvert_exporter": "python",
   "pygments_lexer": "ipython3",
   "version": "3.12.3"
  }
 },
 "nbformat": 4,
 "nbformat_minor": 4
}
